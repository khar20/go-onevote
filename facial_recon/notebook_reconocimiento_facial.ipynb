{
 "cells": [
  {
   "cell_type": "code",
   "execution_count": 1,
   "id": "20b65b62-a0e1-47e1-b2bd-98d3456b0636",
   "metadata": {},
   "outputs": [],
   "source": [
    "import face_recognition\n",
    "import os\n",
    "import json"
   ]
  },
  {
   "cell_type": "code",
   "execution_count": 23,
   "id": "35013ffc-616a-4510-afb0-2563c540273c",
   "metadata": {},
   "outputs": [],
   "source": [
    "#Directorio que contiene las imágenes\n",
    "directorio_imagenes = \"../Images/Rostros\"\n",
    "caracteristicas = {}\n",
    "nombres = []"
   ]
  },
  {
   "cell_type": "code",
   "execution_count": 25,
   "id": "d3885dd6-8b17-44e4-a3a9-3a5a1081a333",
   "metadata": {},
   "outputs": [
    {
     "name": "stdout",
     "output_type": "stream",
     "text": [
      "Características guardadas en 'caracteristicas.json'\n"
     ]
    }
   ],
   "source": [
    "#Procesar cada imagen en el directorio\n",
    "#Es recomendable que las imágenes en el directorio deben tener un solo rostros \n",
    "for archivo in os.listdir(directorio_imagenes):\n",
    "    if archivo.endswith(('.jpg', '.jpeg', '.png')):\n",
    "        #Cargar la imagen\n",
    "        ruta_imagen = os.path.join(directorio_imagenes, archivo)\n",
    "        imagen = face_recognition.load_image_file(ruta_imagen)\n",
    "\n",
    "        #Extraer las características\n",
    "        encodings = face_recognition.face_encodings(imagen)\n",
    "        if encodings: #Solo si se encontraron características\n",
    "            caracteristicas[archivo] = encodings[0].tolist() #Convertir a lista para JSON\n",
    "            nombres.append(archivo)\n",
    "\n",
    "#Guardar características en un archivo JSON\n",
    "data = {\"nombres\": nombres, \"caracteristicas\": caracteristicas}\n",
    "with open('archivos_notebooks/caracteristicas.json', 'w') as f:\n",
    "    json.dump(data, f)\n",
    "\n",
    "print(\"Características guardadas en 'caracteristicas.json'\")"
   ]
  },
  {
   "cell_type": "code",
   "execution_count": null,
   "id": "8e708c10-a4bf-4359-ad9c-ce782432657c",
   "metadata": {},
   "outputs": [],
   "source": []
  }
 ],
 "metadata": {
  "kernelspec": {
   "display_name": "Python 3 (ipykernel)",
   "language": "python",
   "name": "python3"
  },
  "language_info": {
   "codemirror_mode": {
    "name": "ipython",
    "version": 3
   },
   "file_extension": ".py",
   "mimetype": "text/x-python",
   "name": "python",
   "nbconvert_exporter": "python",
   "pygments_lexer": "ipython3",
   "version": "3.12.4"
  }
 },
 "nbformat": 4,
 "nbformat_minor": 5
}
